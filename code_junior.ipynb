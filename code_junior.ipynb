{
 "cells": [
  {
   "cell_type": "code",
   "execution_count": 2,
   "id": "9c2888eb-6118-40a1-982d-f182b95c3294",
   "metadata": {
    "tags": []
   },
   "outputs": [
    {
     "name": "stdout",
     "output_type": "stream",
     "text": [
      "Collecting ruptures\n",
      "  Obtaining dependency information for ruptures from https://files.pythonhosted.org/packages/e2/c9/d8a4503418b101ac34edc313950dfb57c24b6f27ba4e311aa999a2ca296d/ruptures-1.1.9-cp311-cp311-win_amd64.whl.metadata\n",
      "  Downloading ruptures-1.1.9-cp311-cp311-win_amd64.whl.metadata (7.3 kB)\n",
      "Requirement already satisfied: numpy in c:\\users\\hp1\\anaconda3\\lib\\site-packages (from ruptures) (1.24.3)\n",
      "Requirement already satisfied: scipy in c:\\users\\hp1\\anaconda3\\lib\\site-packages (from ruptures) (1.11.1)\n",
      "Downloading ruptures-1.1.9-cp311-cp311-win_amd64.whl (473 kB)\n",
      "   ---------------------------------------- 0.0/473.1 kB ? eta -:--:--\n",
      "    --------------------------------------- 10.2/473.1 kB ? eta -:--:--\n",
      "    --------------------------------------- 10.2/473.1 kB ? eta -:--:--\n",
      "   --- ----------------------------------- 41.0/473.1 kB 330.3 kB/s eta 0:00:02\n",
      "   ------- ------------------------------- 92.2/473.1 kB 585.1 kB/s eta 0:00:01\n",
      "   --------------- ---------------------- 194.6/473.1 kB 908.0 kB/s eta 0:00:01\n",
      "   ------------------------- -------------- 307.2/473.1 kB 1.2 MB/s eta 0:00:01\n",
      "   ---------------------------------------- 473.1/473.1 kB 1.6 MB/s eta 0:00:00\n",
      "Installing collected packages: ruptures\n",
      "Successfully installed ruptures-1.1.9\n",
      "Note: you may need to restart the kernel to use updated packages.\n"
     ]
    }
   ],
   "source": [
    "pip install ruptures "
   ]
  },
  {
   "cell_type": "code",
   "execution_count": 2,
   "id": "f671db44-1762-49b3-abc5-d8fed604fe64",
   "metadata": {
    "tags": []
   },
   "outputs": [
    {
     "name": "stdout",
     "output_type": "stream",
     "text": [
      "Change points: [5, 10, 15, 30, 35, 40]\n",
      "Data with merged values (min): [0.0, 0.0, 0.0, 0.0, 0.0, 131.0, 131.0, 131.0, 131.0, 131.0, 6.0, 6.0, 6.0, 6.0, 6.0, 121.0, 121.0, 121.0, 121.0, 121.0, 121.0, 121.0, 121.0, 121.0, 121.0, 121.0, 121.0, 121.0, 121.0, 121.0, 123.0, 123.0, 123.0, 123.0, 123.0, 125.0, 125.0, 125.0, 125.0, 125.0]\n",
      "Data with merged values (max): [444.0, 444.0, 444.0, 444.0, 444.0, 155.0, 155.0, 155.0, 155.0, 155.0, 130.0, 130.0, 130.0, 130.0, 130.0, 152.0, 152.0, 152.0, 152.0, 152.0, 152.0, 152.0, 152.0, 152.0, 152.0, 152.0, 152.0, 152.0, 152.0, 152.0, 148.0, 148.0, 148.0, 148.0, 148.0, 129.0, 129.0, 129.0, 129.0, 129.0]\n"
     ]
    }
   ],
   "source": [
    "import numpy as np\n",
    "import ruptures as rpt\n",
    "\n",
    "def detect_change_points(data, model=\"l2\", pen=10):\n",
    "    \"\"\"\n",
    "    Detect change points in the data using the specified model and penalty.\n",
    "\n",
    "    Parameters:\n",
    "    data (list or np.array): Input data.\n",
    "    model (str): Model used for change point detection (default is \"l2\").\n",
    "    pen (int or float): Penalty value for the change point detection (default is 10).\n",
    "\n",
    "    Returns:\n",
    "    list: Indices of change points.\n",
    "    \"\"\"\n",
    "    algo = rpt.Pelt(model=model).fit(data)\n",
    "    change_points = algo.predict(pen=pen)\n",
    "    return change_points\n",
    "\n",
    "def merge_segments(data, change_points, method=\"min\"):\n",
    "    \"\"\"\n",
    "    Merge values within each segment defined by change points.\n",
    "\n",
    "    Parameters:\n",
    "    data (list or np.array): Input data.\n",
    "    change_points (list): Indices of change points.\n",
    "    method (str): Method to merge values (\"min\" or \"max\").\n",
    "\n",
    "    Returns:\n",
    "    list: Data with merged values.\n",
    "    \"\"\"\n",
    "    merged_data = []\n",
    "    start_idx = 0\n",
    "\n",
    "    for end_idx in change_points:\n",
    "        segment = data[start_idx:end_idx]\n",
    "        if method == \"min\":\n",
    "            merged_value = min(segment)\n",
    "        elif method == \"max\":\n",
    "            merged_value = max(segment)\n",
    "        else:\n",
    "            raise ValueError(\"Method should be 'min' or 'max'\")\n",
    "\n",
    "        merged_data.extend([merged_value] * len(segment))\n",
    "        start_idx = end_idx\n",
    "\n",
    "    return merged_data\n",
    "\n",
    "# Exemple d'utilisation\n",
    "data = [444.00,211.00,80.00,1.00,0.00,132.00,131.00,133.00,137.00,155.00,8.00,10.00,6.00,7.00,130.00,136.00,149.00,152.00,138.00,121.00,134.00,135.00,139.00,140.00,144.00,145.00,141.00,146.00,122.00,142.00,143.00,147.00,148.00,123.00,124.00,127.00,128.00,129.00,125.00,126.00]  #FGE\n",
    "#data = [2412.00,41.00,37.00,39.00,38.00,36.00,0.00,1.00,34.00,35.00,1615.00,1680.00,1736.00,1760.00,1781.00,1744.00,1752.00,1856.00,1713.00,1766.00,1782.00,1786.00,1787.00,1848.00,1807.00,1811.00,1721.00,1727.00,1769.00,1776.00,1779.00,1785.00,1839.00,1789.00,1793.00,1797.00,1801.00,1805.00,1806.00,1808.00,1771.00,1770.00,1773.00,1775.00,1777.00,1778.00,1783.00,1784.00,1832.00,1790.00,1794.00,1795.00,1798.00,1802.00,1803.00,1810.00,1809.00,1792.00,1791.00,1799.00,1800.00,1816.00,1817.00,1813.00,1818.00,1819.00,1821.00,1822.00,1824.00,1826.00,1814.00,1815.00]\n",
    "#data = [0.00,434.00,33.00,8.00,401.00,6.00,7.00,27.00,25.00,26.00,327.00,324.00,325.00,326.00,328.00,329.00,330.00,333.00,334.00,335.00,338.00,339.00,331.00,332.00,336.00,337.00,321.00,323.00,373.00,377.00,379.00] #BME\n",
    "#data = [753.00,478.00,138.00,7.00,0.00,2.00,3.00,13.00,14.00] # DWE\n",
    "#data = [10.00,51.00,52.00,49.00,50.00,8.00,9.00] #UTE\n",
    "data_np = np.array(data)\n",
    "\n",
    "# Détecter les points de changement\n",
    "change_points = detect_change_points(data_np, pen=3)\n",
    "print(\"Change points:\", change_points)\n",
    "\n",
    "# Fusionner les segments en prenant la plus petite valeur\n",
    "merged_data_min = merge_segments(data, change_points, method=\"min\")\n",
    "print(\"Data with merged values (min):\", merged_data_min)\n",
    "\n",
    "# Fusionner les segments en prenant la plus grande valeur\n",
    "merged_data_max = merge_segments(data, change_points, method=\"max\")\n",
    "print(\"Data with merged values (max):\", merged_data_max)\n"
   ]
  },
  {
   "cell_type": "code",
   "execution_count": 91,
   "id": "6da24ca7-b513-4eb2-9a83-9eddbebe795b",
   "metadata": {
    "tags": []
   },
   "outputs": [
    {
     "name": "stdout",
     "output_type": "stream",
     "text": [
      "Regrouper en la plus grande valeur: [10.0, 52.0]\n"
     ]
    }
   ],
   "source": [
    "def regrouper_valeurs_min(data, seuil=1):\n",
    "    \"\"\"\n",
    "    Regroupe les valeurs similaires en prenant la plus petite valeur.\n",
    "\n",
    "    Parameters:\n",
    "    data (list): Liste des valeurs à traiter.\n",
    "    seuil (int): Différence maximale pour considérer les valeurs comme similaires.\n",
    "\n",
    "    Returns:\n",
    "    list: Liste avec les valeurs regroupées.\n",
    "    \"\"\"\n",
    "    data = sorted(data)\n",
    "    result = []\n",
    "    groupe = [data[0]]\n",
    "\n",
    "    for i in range(1, len(data)):\n",
    "        if data[i] - groupe[-1] <= seuil:\n",
    "            groupe.append(data[i])\n",
    "        else:\n",
    "            result.append(min(groupe))\n",
    "            groupe = [data[i]]\n",
    "\n",
    "    if groupe:\n",
    "        result.append(min(groupe))\n",
    "\n",
    "    return result\n",
    "\n",
    "def regrouper_valeurs_max(data, seuil=1):\n",
    "    \"\"\"\n",
    "    Regroupe les valeurs similaires en prenant la plus grande valeur.\n",
    "\n",
    "    Parameters:\n",
    "    data (list): Liste des valeurs à traiter.\n",
    "    seuil (int): Différence maximale pour considérer les valeurs comme similaires.\n",
    "\n",
    "    Returns:\n",
    "    list: Liste avec les valeurs regroupées.\n",
    "    \"\"\"\n",
    "    data = sorted(data)\n",
    "    result = []\n",
    "    groupe = [data[0]]\n",
    "\n",
    "    for i in range(1, len(data)):\n",
    "        if data[i] - groupe[-1] <= seuil:\n",
    "            groupe.append(data[i])\n",
    "        else:\n",
    "            result.append(max(groupe))\n",
    "            groupe = [data[i]]\n",
    "\n",
    "    if groupe:\n",
    "        result.append(max(groupe))\n",
    "\n",
    "    return result\n",
    "\n",
    "# Exemple d'utilisation\n",
    "seuil = 0.5* (np.median(data) - np.min(data))\n",
    "\n",
    "#print(\"Regrouper en la plus petite valeur:\", regrouper_valeurs_min(data, seuil))\n",
    "print(\"Regrouper en la plus grande valeur:\", regrouper_valeurs_max(data, seuil))"
   ]
  },
  {
   "cell_type": "markdown",
   "id": "ac10eb1d-c62e-4818-94b1-edd54e1b7025",
   "metadata": {},
   "source": [
    "FGE:[0.0, 80.0, 444.0]\n",
    "HPE: [0.0, 1615.0]\n",
    "BME: [0.0, 321.0]\n",
    "DWE:[0.0, 138.0, 478.0, 753.0]\n",
    "UTE:[8.0, 49.0]"
   ]
  },
  {
   "cell_type": "code",
   "execution_count": null,
   "id": "f1dfd125-39ce-427b-a4d6-77ebcd8f2e3d",
   "metadata": {},
   "outputs": [],
   "source": []
  },
  {
   "cell_type": "code",
   "execution_count": null,
   "id": "473dfdf1-13e4-44b4-ae16-a748a75da1ff",
   "metadata": {},
   "outputs": [],
   "source": []
  },
  {
   "cell_type": "code",
   "execution_count": null,
   "id": "cd0152f3-d82f-452f-8227-4355ad41d4c2",
   "metadata": {},
   "outputs": [],
   "source": []
  }
 ],
 "metadata": {
  "kernelspec": {
   "display_name": "Python 3 (ipykernel)",
   "language": "python",
   "name": "python3"
  },
  "language_info": {
   "codemirror_mode": {
    "name": "ipython",
    "version": 3
   },
   "file_extension": ".py",
   "mimetype": "text/x-python",
   "name": "python",
   "nbconvert_exporter": "python",
   "pygments_lexer": "ipython3",
   "version": "3.11.5"
  }
 },
 "nbformat": 4,
 "nbformat_minor": 5
}

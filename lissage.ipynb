{
  "nbformat": 4,
  "nbformat_minor": 0,
  "metadata": {
    "colab": {
      "provenance": []
    },
    "kernelspec": {
      "name": "python3",
      "display_name": "Python 3"
    },
    "language_info": {
      "name": "python"
    }
  },
  "cells": [
    {
      "cell_type": "code",
      "execution_count": 3,
      "metadata": {
        "colab": {
          "base_uri": "https://localhost:8080/"
        },
        "id": "R3y9JMxKrni-",
        "outputId": "b6eaa26c-3432-48d4-e912-64331a6b3554"
      },
      "outputs": [
        {
          "output_type": "stream",
          "name": "stdout",
          "text": [
            "Collecting ruptures\n",
            "  Downloading ruptures-1.1.9-cp310-cp310-manylinux_2_17_x86_64.manylinux2014_x86_64.whl (1.2 MB)\n",
            "\u001b[2K     \u001b[90m━━━━━━━━━━━━━━━━━━━━━━━━━━━━━━━━━━━━━━━━\u001b[0m \u001b[32m1.2/1.2 MB\u001b[0m \u001b[31m18.9 MB/s\u001b[0m eta \u001b[36m0:00:00\u001b[0m\n",
            "\u001b[?25hRequirement already satisfied: numpy in /usr/local/lib/python3.10/dist-packages (from ruptures) (1.25.2)\n",
            "Requirement already satisfied: scipy in /usr/local/lib/python3.10/dist-packages (from ruptures) (1.11.4)\n",
            "Installing collected packages: ruptures\n",
            "Successfully installed ruptures-1.1.9\n"
          ]
        }
      ],
      "source": [
        "! pip install ruptures"
      ]
    },
    {
      "cell_type": "code",
      "source": [
        "import numpy as np\n",
        "import ruptures as rpt\n",
        "\n",
        "def detect_change_points(data, model=\"l2\", pen=10):\n",
        "    \"\"\"\n",
        "    Detect change points in the data using the specified model and penalty.\n",
        "\n",
        "    Parameters:\n",
        "    data (list or np.array): Input data.\n",
        "    model (str): Model used for change point detection (default is \"l2\").\n",
        "    pen (int or float): Penalty value for the change point detection (default is 10).\n",
        "\n",
        "    Returns:\n",
        "    list: Indices of change points.\n",
        "    \"\"\"\n",
        "    algo = rpt.Pelt(model=model).fit(data)\n",
        "    change_points = algo.predict(pen=pen)\n",
        "    return change_points\n",
        "\n",
        "def merge_segments(data, change_points, method=\"min\"):\n",
        "    \"\"\"\n",
        "    Merge values within each segment defined by change points.\n",
        "\n",
        "    Parameters:\n",
        "    data (list or np.array): Input data.\n",
        "    change_points (list): Indices of change points.\n",
        "    method (str): Method to merge values (\"min\" or \"max\").\n",
        "\n",
        "    Returns:\n",
        "    list: Data with merged values.\n",
        "    \"\"\"\n",
        "    merged_data = []\n",
        "    start_idx = 0\n",
        "\n",
        "    for end_idx in change_points:\n",
        "        segment = data[start_idx:end_idx]\n",
        "        if method == \"min\":\n",
        "            merged_value = min(segment)\n",
        "        elif method == \"max\":\n",
        "            merged_value = max(segment)\n",
        "        else:\n",
        "            raise ValueError(\"Method should be 'min' or 'max'\")\n",
        "\n",
        "        merged_data.extend([merged_value] * len(segment))\n",
        "        start_idx = end_idx\n",
        "\n",
        "    return merged_data\n",
        "\n",
        "# Exemple d'utilisation\n",
        "data = [444.0, 211.0, 80.0, 1.0, 0.0, 10.0, 124.0, 125.0, 6.0, 121.0, 126.0, 129.0, 130.0, 131.0, 132.0, 8.0, 7.0, 122.0, 123.0, 127.0, 128.0, 135.0, 153.0, 133.0, 134.0, 143.0, 136.0, 137.0, 138.0, 139.0, 142.0, 148.0, 149.0, 140.0, 141.0, 144.0, 145.0, 146.0, 147.0] #[7, 1, 0, 140, 124, 131, 127]\n",
        "data_np = np.array(data)\n",
        "\n",
        "# Détecter les points de changement\n",
        "change_points = detect_change_points(data_np, pen=3)\n",
        "print(\"Change points:\", change_points)\n",
        "\n",
        "# Fusionner les segments en prenant la plus petite valeur\n",
        "merged_data_min = merge_segments(data, change_points, method=\"min\")\n",
        "print(\"Data with merged values (min):\", merged_data_min)\n",
        "\n",
        "# Fusionner les segments en prenant la plus grande valeur\n",
        "merged_data_max = merge_segments(data, change_points, method=\"max\")\n",
        "print(\"Data with merged values (max):\", merged_data_max)\n"
      ],
      "metadata": {
        "colab": {
          "base_uri": "https://localhost:8080/"
        },
        "id": "iyC4lnrsrszZ",
        "outputId": "9383812b-0389-4ecc-ef68-c8ed0b84a0af"
      },
      "execution_count": 30,
      "outputs": [
        {
          "output_type": "stream",
          "name": "stdout",
          "text": [
            "Change points: [5, 10, 15, 20, 25, 30, 35, 39]\n",
            "Data with merged values (min): [0.0, 0.0, 0.0, 0.0, 0.0, 6.0, 6.0, 6.0, 6.0, 6.0, 126.0, 126.0, 126.0, 126.0, 126.0, 7.0, 7.0, 7.0, 7.0, 7.0, 128.0, 128.0, 128.0, 128.0, 128.0, 136.0, 136.0, 136.0, 136.0, 136.0, 140.0, 140.0, 140.0, 140.0, 140.0, 144.0, 144.0, 144.0, 144.0]\n",
            "Data with merged values (max): [444.0, 444.0, 444.0, 444.0, 444.0, 125.0, 125.0, 125.0, 125.0, 125.0, 132.0, 132.0, 132.0, 132.0, 132.0, 127.0, 127.0, 127.0, 127.0, 127.0, 153.0, 153.0, 153.0, 153.0, 153.0, 143.0, 143.0, 143.0, 143.0, 143.0, 149.0, 149.0, 149.0, 149.0, 149.0, 147.0, 147.0, 147.0, 147.0]\n"
          ]
        }
      ]
    },
    {
      "cell_type": "code",
      "source": [
        "def regrouper_valeurs_min(data, seuil=1):\n",
        "    \"\"\"\n",
        "    Regroupe les valeurs similaires en prenant la plus petite valeur.\n",
        "\n",
        "    Parameters:\n",
        "    data (list): Liste des valeurs à traiter.\n",
        "    seuil (int): Différence maximale pour considérer les valeurs comme similaires.\n",
        "\n",
        "    Returns:\n",
        "    list: Liste avec les valeurs regroupées.\n",
        "    \"\"\"\n",
        "    data = sorted(data)\n",
        "    result = []\n",
        "    groupe = [data[0]]\n",
        "\n",
        "    for i in range(1, len(data)):\n",
        "        if data[i] - groupe[-1] <= seuil:\n",
        "            groupe.append(data[i])\n",
        "        else:\n",
        "            result.append(min(groupe))\n",
        "            groupe = [data[i]]\n",
        "\n",
        "    if groupe:\n",
        "        result.append(min(groupe))\n",
        "\n",
        "    return result\n",
        "\n",
        "def regrouper_valeurs_max(data, seuil=1):\n",
        "    \"\"\"\n",
        "    Regroupe les valeurs similaires en prenant la plus grande valeur.\n",
        "\n",
        "    Parameters:\n",
        "    data (list): Liste des valeurs à traiter.\n",
        "    seuil (int): Différence maximale pour considérer les valeurs comme similaires.\n",
        "\n",
        "    Returns:\n",
        "    list: Liste avec les valeurs regroupées.\n",
        "    \"\"\"\n",
        "    data = sorted(data)\n",
        "    result = []\n",
        "    groupe = [data[0]]\n",
        "\n",
        "    for i in range(1, len(data)):\n",
        "        if data[i] - groupe[-1] <= seuil:\n",
        "            groupe.append(data[i])\n",
        "        else:\n",
        "            result.append(max(groupe))\n",
        "            groupe = [data[i]]\n",
        "\n",
        "    if groupe:\n",
        "        result.append(max(groupe))\n",
        "\n",
        "    return result\n",
        "\n",
        "# Exemple d'utilisation\n",
        "seuil = 0.5 * (max(data) - min(data))\n",
        "\n",
        "print(\"Regrouper en la plus petite valeur:\", regrouper_valeurs_min(data, seuil))\n",
        "print(\"Regrouper en la plus grande valeur:\", regrouper_valeurs_max(data, seuil))\n"
      ],
      "metadata": {
        "colab": {
          "base_uri": "https://localhost:8080/"
        },
        "id": "krh7veYYs2Bm",
        "outputId": "69f19b85-a9cf-4dd3-cc1d-b6bad56f5466"
      },
      "execution_count": 31,
      "outputs": [
        {
          "output_type": "stream",
          "name": "stdout",
          "text": [
            "Regrouper en la plus petite valeur: [0.0, 444.0]\n",
            "Regrouper en la plus grande valeur: [211.0, 444.0]\n"
          ]
        }
      ]
    },
    {
      "cell_type": "code",
      "source": [
        "import numpy as np\n",
        "\n",
        "\n",
        "array = [1, 2, 7, 11, 5, 0, 1000000, 50000]\n",
        "np.mean(array)"
      ],
      "metadata": {
        "colab": {
          "base_uri": "https://localhost:8080/"
        },
        "id": "dLQ-DDPuu6XJ",
        "outputId": "ca28dc94-3e11-47d8-d980-c1d0f49e398b"
      },
      "execution_count": 32,
      "outputs": [
        {
          "output_type": "execute_result",
          "data": {
            "text/plain": [
              "131253.25"
            ]
          },
          "metadata": {},
          "execution_count": 32
        }
      ]
    },
    {
      "cell_type": "code",
      "source": [
        "np.median(array)"
      ],
      "metadata": {
        "colab": {
          "base_uri": "https://localhost:8080/"
        },
        "id": "TAqdbMU2ylfl",
        "outputId": "f627a824-babe-4721-91d7-ad423711500c"
      },
      "execution_count": 33,
      "outputs": [
        {
          "output_type": "execute_result",
          "data": {
            "text/plain": [
              "6.0"
            ]
          },
          "metadata": {},
          "execution_count": 33
        }
      ]
    },
    {
      "cell_type": "code",
      "source": [
        "def regrouper_valeurs_min(data, seuil=1):\n",
        "    \"\"\"\n",
        "    Regroupe les valeurs similaires en prenant la plus petite valeur.\n",
        "\n",
        "    Parameters:\n",
        "    data (list): Liste des valeurs à traiter.\n",
        "    seuil (int): Différence maximale pour considérer les valeurs comme similaires.\n",
        "\n",
        "    Returns:\n",
        "    list: Liste avec les valeurs regroupées.\n",
        "    \"\"\"\n",
        "    data = sorted(data)\n",
        "    result = []\n",
        "    groupe = [data[0]]\n",
        "\n",
        "    for i in range(1, len(data)):\n",
        "        if data[i] - groupe[-1] <= seuil:\n",
        "            groupe.append(data[i])\n",
        "        else:\n",
        "            result.append(min(groupe))\n",
        "            groupe = [data[i]]\n",
        "\n",
        "    if groupe:\n",
        "        result.append(min(groupe))\n",
        "\n",
        "    return result\n",
        "\n",
        "def regrouper_valeurs_max(data, seuil=1):\n",
        "    \"\"\"\n",
        "    Regroupe les valeurs similaires en prenant la plus grande valeur.\n",
        "\n",
        "    Parameters:\n",
        "    data (list): Liste des valeurs à traiter.\n",
        "    seuil (int): Différence maximale pour considérer les valeurs comme similaires.\n",
        "\n",
        "    Returns:\n",
        "    list: Liste avec les valeurs regroupées.\n",
        "    \"\"\"\n",
        "    data = sorted(data)\n",
        "    result = []\n",
        "    groupe = [data[0]]\n",
        "\n",
        "    for i in range(1, len(data)):\n",
        "        if data[i] - groupe[-1] <= seuil:\n",
        "            groupe.append(data[i])\n",
        "        else:\n",
        "            result.append(max(groupe))\n",
        "            groupe = [data[i]]\n",
        "\n",
        "    if groupe:\n",
        "        result.append(max(groupe))\n",
        "\n",
        "    return result\n",
        "\n",
        "# Exemple d'utilisation\n",
        "seuil = 0.5 * (np.median(data) - np.min(data))\n",
        "\n",
        "print(\"Regrouper en la plus petite valeur:\", regrouper_valeurs_min(data, seuil))\n",
        "#print(\"Regrouper en la plus grande valeur:\", regrouper_valeurs_max(array, seuil))"
      ],
      "metadata": {
        "colab": {
          "base_uri": "https://localhost:8080/"
        },
        "id": "As7DBz_3yyht",
        "outputId": "4f694eb3-c71a-4fd4-db91-19b0cd960fdb"
      },
      "execution_count": 34,
      "outputs": [
        {
          "output_type": "stream",
          "name": "stdout",
          "text": [
            "Regrouper en la plus petite valeur: [0.0, 80.0, 444.0]\n"
          ]
        }
      ]
    },
    {
      "cell_type": "code",
      "source": [],
      "metadata": {
        "id": "l0ZQiDMazEZY"
      },
      "execution_count": 34,
      "outputs": []
    }
  ]
}
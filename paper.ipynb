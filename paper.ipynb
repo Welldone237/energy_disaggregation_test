{
 "cells": [
  {
   "cell_type": "code",
   "execution_count": null,
   "id": "fd319813-1971-4f33-917c-9f84a5de5bda",
   "metadata": {},
   "outputs": [],
   "source": [
    "import numpy as np\n",
    "import pandas as pd"
   ]
  },
  {
   "cell_type": "code",
   "execution_count": null,
   "id": "62931e59-d24f-4197-9403-c742dc418bcc",
   "metadata": {},
   "outputs": [],
   "source": [
    "# convertir le fichier excel en fichier csv\n",
    "df = pd.read_excel('all_data.xlsx')\n",
    "df.to_csv('raw_data.csv', index=False)"
   ]
  },
  {
   "cell_type": "code",
   "execution_count": null,
   "id": "c0b128a2-8190-4431-9c9e-2dda33fcd03a",
   "metadata": {},
   "outputs": [],
   "source": [
    "df.head()"
   ]
  },
  {
   "cell_type": "code",
   "execution_count": null,
   "id": "97f0e93d-3ff9-42c2-a231-48235d6c47d9",
   "metadata": {},
   "outputs": [],
   "source": [
    "df.shape"
   ]
  },
  {
   "cell_type": "code",
   "execution_count": null,
   "id": "35bd86be-9538-4c61-b295-6454e823ecde",
   "metadata": {},
   "outputs": [],
   "source": [
    "df.conso_elect.value_counts()"
   ]
  },
  {
   "cell_type": "code",
   "execution_count": null,
   "id": "8243071d-62dc-4221-a8fc-d7930ec618a1",
   "metadata": {},
   "outputs": [],
   "source": [
    "plt.show()"
   ]
  },
  {
   "cell_type": "code",
   "execution_count": null,
   "id": "14ed0ea6-4a39-434c-9d4d-b43054d81a25",
   "metadata": {},
   "outputs": [],
   "source": [
    "import matplotlib.pyplot as plt\n",
    "import seaborn as sns\n",
    "import pandas as pd\n",
    "\n",
    "# Supposons que df est votre dataframe\n",
    "features = [col for col in df.columns if col != 'conso_elect']\n",
    "age_order = ['less than 25', '25 - 34', '35 - 44', '45 - 54', '55 and above']\n",
    "area_order = ['less than 20', '20 - 50', '51 - 90', '91 - 120', '121 - 140', 'more than 140']\n",
    "type_accomodation_order = ['room', 'studio', 'apartment', 'villa', 'manor']\n",
    "\n",
    "# Définir le nombre de graphiques par rangée\n",
    "n_cols = 3\n",
    "n_rows = (len(features) + n_cols - 1) // n_cols\n",
    "\n",
    "fig, axes = plt.subplots(n_rows, n_cols, figsize=(18, 6 * n_rows))\n",
    "axes = axes.flatten()  # Aplatir le tableau d'axes pour un accès plus facile\n",
    "\n",
    "# Créer un dossier pour les fichiers exportés si nécessaire\n",
    "output_dir = \"other_graphics\"\n",
    "os.makedirs(output_dir, exist_ok=True)\n",
    "\n",
    "for i, feature in enumerate(features):\n",
    "    ax = axes[i]\n",
    "\n",
    "    if feature == 'age_category':\n",
    "        order = age_order\n",
    "    elif feature == 'area_Hs':\n",
    "        order = area_order\n",
    "    elif feature == 'type_accomodation':\n",
    "        order = type_accomodation_order\n",
    "    elif df[feature].dtype == 'object' or df[feature].dtype.name == 'category':\n",
    "        order = df[feature].value_counts().index\n",
    "    else:\n",
    "        order = None\n",
    "    \n",
    "    sns.countplot(data=df, x=feature, hue='conso_elect', order=order, ax=ax)\n",
    "\n",
    "    ax.set_title(f'Distribution of {feature} by power consumption')\n",
    "    ax.set_xlabel(feature)\n",
    "    ax.set_ylabel('Number of households')\n",
    "\n",
    "    # Rotation des étiquettes si nécessaire\n",
    "    if len(df[feature].unique()) > 5 or df[feature].dtype == 'object':\n",
    "        ax.set_xticklabels(ax.get_xticklabels(), rotation=45, ha='right')\n",
    "\n",
    "    # Ajout de la grille\n",
    "    ax.grid(axis='y', linestyle='--', alpha=0.7)\n",
    "    \n",
    "    # Sauvegarder les graphiques en SVG et JPEG\n",
    "    filename = os.path.join(output_dir, f\"{feature}_distribution\")\n",
    "    plt.savefig(f\"{filename}.svg\", format=\"svg\", dpi=600)\n",
    "    plt.savefig(f\"{filename}.jpeg\", format=\"jpeg\", dpi=600)\n",
    "\n",
    "# Supprimer les sous-graphiques inutilisés si le nombre de features n'est pas un multiple de n_cols\n",
    "for j in range(i + 1, len(axes)):\n",
    "    fig.delaxes(axes[j])\n",
    "\n",
    "# Ajuster la disposition\n",
    "plt.tight_layout()\n",
    "\n",
    "# Afficher tous les graphiques\n",
    "plt.show()\n"
   ]
  }
 ],
 "metadata": {
  "kernelspec": {
   "display_name": "Python 3 (ipykernel)",
   "language": "python",
   "name": "python3"
  },
  "language_info": {
   "codemirror_mode": {
    "name": "ipython",
    "version": 3
   },
   "file_extension": ".py",
   "mimetype": "text/x-python",
   "name": "python",
   "nbconvert_exporter": "python",
   "pygments_lexer": "ipython3",
   "version": "3.11.5"
  }
 },
 "nbformat": 4,
 "nbformat_minor": 5
}

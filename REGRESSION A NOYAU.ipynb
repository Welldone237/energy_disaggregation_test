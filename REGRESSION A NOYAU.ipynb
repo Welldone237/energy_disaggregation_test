{
 "cells": [
  {
   "cell_type": "markdown",
   "id": "2659a5eb-b855-4955-bed6-0ef7353caf9d",
   "metadata": {},
   "source": [
    "METHODE DE LA REGRESSION A NOYAU POUR LA RECHERCHE DES ETATS DE FONCTIONNEMENT D'UN APPAREIL"
   ]
  },
  {
   "cell_type": "code",
   "execution_count": 1,
   "id": "a648c5df-ab06-47a6-9b1b-7cbb704ca0d7",
   "metadata": {},
   "outputs": [],
   "source": [
    "import numpy as np \n",
    "import pandas as pd \n",
    "import matplotlib.pyplot as plt \n",
    "import ruptures as rpt\n",
    "\n",
    "# Chargement des données\n",
    "data = pd.read_csv('fridge_284.csv')\n",
    "timestamps = data['timestamp'].values\n",
    "power_consumption = data['power'].values\n",
    "\n",
    "# Convertir l'index en DatetimeIndex\n",
    "data.index = pd.to_datetime(data.index)\n",
    "\n",
    "# Resample les données pour réduire la résolution \n",
    "data_resampled = data.resample('15T').mean()\n",
    "power_consumption_resampled = data_resampled['power'].values\n",
    "data_resampled_dataset = data_resampled.copy()\n",
    "\n",
    "# Suppression des valeurs manquantes \n",
    "data.dropna(inplace=True)\n",
    "\n",
    "# Convertir les timestamps en un format utilisable si nécessaire \n",
    "data['timestamp'] = pd.to_datetime(data['timestamp'])\n",
    "\n",
    "# Extraction de la colonne de consommation d'énergie \n",
    "power_consumption = data['power'].values\n"
   ]
  },
  {
   "cell_type": "code",
   "execution_count": null,
   "id": "9c7736ea-3478-468c-b59b-d4d0af0c2ff4",
   "metadata": {},
   "outputs": [],
   "source": [
    "\"\"\" PREMIERE METHODE\"\"\"\n",
    "\n",
    "# Détection des points de changements \n",
    "# Application de la méthode de détection de ruptures\n",
    "model = 'l2'\n",
    "algo = rpt.Pelt(model=model)\n",
    "result = algo.fit(power_consumption).predict(pen=10)"
   ]
  },
  {
   "cell_type": "code",
   "execution_count": null,
   "id": "bb28c6e7-1a0e-48ac-a87e-5e4050f437a6",
   "metadata": {},
   "outputs": [],
   "source": [
    "\"\"\" DEUXIEME METHODE\"\"\"\n",
    "\n",
    "# Détection des points de changements \n",
    "# Application de la méthode de détection de ruptures\n",
    "model = 'l2'\n",
    "algo = rpt.Binseg(model=model)\n",
    "result = algo.fit(power_consumption).predict(n_bkps=10)"
   ]
  },
  {
   "cell_type": "code",
   "execution_count": null,
   "id": "2c064b0e-a1f9-48ff-8f67-b2b8b064c026",
   "metadata": {},
   "outputs": [],
   "source": [
    "\"\"\"TREOISIEME METHODE\"\"\"\n",
    "\n",
    "\n",
    "# Etant donné que le temps d'exécution est très long, on va\n",
    "# utiliser un échantillon de données \n",
    "power_consumption_sample = power_consumption[:1000]\n",
    "result = algo.fit(power_consumption_sample).predict(pen=10)"
   ]
  },
  {
   "cell_type": "code",
   "execution_count": null,
   "id": "01341f35-54c9-40a5-9c55-869b6c1009d3",
   "metadata": {},
   "outputs": [],
   "source": [
    "# Affichage des résultats\n",
    "plt.figure(figsize=(15, 5))\n",
    "plt.plot(data_resampled.index, power_consumption_resampled, label='Consommation d\\'énergie')\n",
    "for cp in result[:-1]:  # Exclure le dernier point de changement (fin de série)\n",
    "    plt.axvline(data_resampled.index[cp], color='r', linestyle='--', label='Changement détecté' if cp == result[0] else \"\")\n",
    "plt.legend()\n",
    "plt.xlabel('Temps')\n",
    "plt.ylabel('Consommation d\\'énergie')\n",
    "plt.title('Détection des changements d\\'état')\n",
    "plt.show()"
   ]
  }
 ],
 "metadata": {
  "kernelspec": {
   "display_name": "Python 3 (ipykernel)",
   "language": "python",
   "name": "python3"
  },
  "language_info": {
   "codemirror_mode": {
    "name": "ipython",
    "version": 3
   },
   "file_extension": ".py",
   "mimetype": "text/x-python",
   "name": "python",
   "nbconvert_exporter": "python",
   "pygments_lexer": "ipython3",
   "version": "3.9.12"
  }
 },
 "nbformat": 4,
 "nbformat_minor": 5
}
